{
 "cells": [
  {
   "cell_type": "markdown",
   "metadata": {},
   "source": [
    "# Survivors of Titanic\n",
    "\n",
    "\n",
    "\n",
    "__Variable Notes__\n",
    "\n",
    "pclass: A proxy for socio-economic status (SES) 1st = Upper 2nd = Middle 3rd = Lower\n",
    "\n",
    "age: Age is fractional if less than 1. If the age is estimated, is it in the form of xx.5\n",
    "\n",
    "sibsp: The dataset defines family relations in this way... Sibling = brother, sister, stepbrother, stepsister Spouse = husband, wife (mistresses and fiancés were ignored)\n",
    "\n",
    "parch: The dataset defines family relations in this way... Parent = mother, father Child = daughter, son, stepdaughter, stepson Some children travelled only with a nanny, therefore parch=0 for them."
   ]
  },
  {
   "cell_type": "code",
   "execution_count": 85,
   "metadata": {},
   "outputs": [],
   "source": [
    "# Imports\n",
    "\n",
    "import pandas as pd\n",
    "import numpy as np\n",
    "import matplotlib.pyplot as plt\n",
    "import seaborn as sns\n",
    "\n",
    "%matplotlib inline"
   ]
  },
  {
   "cell_type": "code",
   "execution_count": 86,
   "metadata": {},
   "outputs": [],
   "source": [
    "# Creating relavent datasets\n",
    "\n",
    "trainDF = pd.read_csv(\"train.csv\")\n",
    "testDF = pd.read_csv(\"test.csv\")\n",
    "genderSub = pd.read_csv(\"gender_submission.csv\")"
   ]
  },
  {
   "cell_type": "code",
   "execution_count": 87,
   "metadata": {},
   "outputs": [
    {
     "name": "stdout",
     "output_type": "stream",
     "text": [
      "<class 'pandas.core.frame.DataFrame'>\n",
      "RangeIndex: 891 entries, 0 to 890\n",
      "Data columns (total 12 columns):\n",
      "PassengerId    891 non-null int64\n",
      "Survived       891 non-null int64\n",
      "Pclass         891 non-null int64\n",
      "Name           891 non-null object\n",
      "Sex            891 non-null object\n",
      "Age            714 non-null float64\n",
      "SibSp          891 non-null int64\n",
      "Parch          891 non-null int64\n",
      "Ticket         891 non-null object\n",
      "Fare           891 non-null float64\n",
      "Cabin          204 non-null object\n",
      "Embarked       889 non-null object\n",
      "dtypes: float64(2), int64(5), object(5)\n",
      "memory usage: 83.6+ KB\n",
      "-----------------\n",
      "<class 'pandas.core.frame.DataFrame'>\n",
      "RangeIndex: 418 entries, 0 to 417\n",
      "Data columns (total 11 columns):\n",
      "PassengerId    418 non-null int64\n",
      "Pclass         418 non-null int64\n",
      "Name           418 non-null object\n",
      "Sex            418 non-null object\n",
      "Age            332 non-null float64\n",
      "SibSp          418 non-null int64\n",
      "Parch          418 non-null int64\n",
      "Ticket         418 non-null object\n",
      "Fare           417 non-null float64\n",
      "Cabin          91 non-null object\n",
      "Embarked       418 non-null object\n",
      "dtypes: float64(2), int64(4), object(5)\n",
      "memory usage: 36.0+ KB\n"
     ]
    }
   ],
   "source": [
    "# Reviewing the data types and number null values in the data set using .info()\n",
    "\n",
    "trainDF.info()\n",
    "print('-----------------')\n",
    "testDF.info()"
   ]
  },
  {
   "cell_type": "markdown",
   "metadata": {},
   "source": [
    "From this output we can deduce the following:\n",
    "\n",
    "For the training dataset:\n",
    " - 177 missing entries for the Age column\n",
    " - 687 missing entries for the Cabin column\n",
    " - 2 missing entries for the Embarked column\n",
    "\n",
    "For the test dataset:\n",
    " - 86 missing entries for the Age column\n",
    " - 1 missing entry for the Fare column\n",
    " - 327 missing entries for the Embarked column"
   ]
  },
  {
   "cell_type": "code",
   "execution_count": 88,
   "metadata": {},
   "outputs": [
    {
     "data": {
      "text/html": [
       "<div>\n",
       "<style scoped>\n",
       "    .dataframe tbody tr th:only-of-type {\n",
       "        vertical-align: middle;\n",
       "    }\n",
       "\n",
       "    .dataframe tbody tr th {\n",
       "        vertical-align: top;\n",
       "    }\n",
       "\n",
       "    .dataframe thead th {\n",
       "        text-align: right;\n",
       "    }\n",
       "</style>\n",
       "<table border=\"1\" class=\"dataframe\">\n",
       "  <thead>\n",
       "    <tr style=\"text-align: right;\">\n",
       "      <th></th>\n",
       "      <th>PassengerId</th>\n",
       "      <th>Survived</th>\n",
       "      <th>Pclass</th>\n",
       "      <th>Name</th>\n",
       "      <th>Sex</th>\n",
       "      <th>Age</th>\n",
       "      <th>SibSp</th>\n",
       "      <th>Parch</th>\n",
       "      <th>Ticket</th>\n",
       "      <th>Fare</th>\n",
       "      <th>Cabin</th>\n",
       "      <th>Embarked</th>\n",
       "    </tr>\n",
       "  </thead>\n",
       "  <tbody>\n",
       "    <tr>\n",
       "      <th>0</th>\n",
       "      <td>1</td>\n",
       "      <td>0</td>\n",
       "      <td>3</td>\n",
       "      <td>Braund, Mr. Owen Harris</td>\n",
       "      <td>male</td>\n",
       "      <td>22.0</td>\n",
       "      <td>1</td>\n",
       "      <td>0</td>\n",
       "      <td>A/5 21171</td>\n",
       "      <td>7.2500</td>\n",
       "      <td>NaN</td>\n",
       "      <td>S</td>\n",
       "    </tr>\n",
       "    <tr>\n",
       "      <th>1</th>\n",
       "      <td>2</td>\n",
       "      <td>1</td>\n",
       "      <td>1</td>\n",
       "      <td>Cumings, Mrs. John Bradley (Florence Briggs Th...</td>\n",
       "      <td>female</td>\n",
       "      <td>38.0</td>\n",
       "      <td>1</td>\n",
       "      <td>0</td>\n",
       "      <td>PC 17599</td>\n",
       "      <td>71.2833</td>\n",
       "      <td>C85</td>\n",
       "      <td>C</td>\n",
       "    </tr>\n",
       "    <tr>\n",
       "      <th>2</th>\n",
       "      <td>3</td>\n",
       "      <td>1</td>\n",
       "      <td>3</td>\n",
       "      <td>Heikkinen, Miss. Laina</td>\n",
       "      <td>female</td>\n",
       "      <td>26.0</td>\n",
       "      <td>0</td>\n",
       "      <td>0</td>\n",
       "      <td>STON/O2. 3101282</td>\n",
       "      <td>7.9250</td>\n",
       "      <td>NaN</td>\n",
       "      <td>S</td>\n",
       "    </tr>\n",
       "    <tr>\n",
       "      <th>3</th>\n",
       "      <td>4</td>\n",
       "      <td>1</td>\n",
       "      <td>1</td>\n",
       "      <td>Futrelle, Mrs. Jacques Heath (Lily May Peel)</td>\n",
       "      <td>female</td>\n",
       "      <td>35.0</td>\n",
       "      <td>1</td>\n",
       "      <td>0</td>\n",
       "      <td>113803</td>\n",
       "      <td>53.1000</td>\n",
       "      <td>C123</td>\n",
       "      <td>S</td>\n",
       "    </tr>\n",
       "    <tr>\n",
       "      <th>4</th>\n",
       "      <td>5</td>\n",
       "      <td>0</td>\n",
       "      <td>3</td>\n",
       "      <td>Allen, Mr. William Henry</td>\n",
       "      <td>male</td>\n",
       "      <td>35.0</td>\n",
       "      <td>0</td>\n",
       "      <td>0</td>\n",
       "      <td>373450</td>\n",
       "      <td>8.0500</td>\n",
       "      <td>NaN</td>\n",
       "      <td>S</td>\n",
       "    </tr>\n",
       "  </tbody>\n",
       "</table>\n",
       "</div>"
      ],
      "text/plain": [
       "   PassengerId  Survived  Pclass  \\\n",
       "0            1         0       3   \n",
       "1            2         1       1   \n",
       "2            3         1       3   \n",
       "3            4         1       1   \n",
       "4            5         0       3   \n",
       "\n",
       "                                                Name     Sex   Age  SibSp  \\\n",
       "0                            Braund, Mr. Owen Harris    male  22.0      1   \n",
       "1  Cumings, Mrs. John Bradley (Florence Briggs Th...  female  38.0      1   \n",
       "2                             Heikkinen, Miss. Laina  female  26.0      0   \n",
       "3       Futrelle, Mrs. Jacques Heath (Lily May Peel)  female  35.0      1   \n",
       "4                           Allen, Mr. William Henry    male  35.0      0   \n",
       "\n",
       "   Parch            Ticket     Fare Cabin Embarked  \n",
       "0      0         A/5 21171   7.2500   NaN        S  \n",
       "1      0          PC 17599  71.2833   C85        C  \n",
       "2      0  STON/O2. 3101282   7.9250   NaN        S  \n",
       "3      0            113803  53.1000  C123        S  \n",
       "4      0            373450   8.0500   NaN        S  "
      ]
     },
     "execution_count": 88,
     "metadata": {},
     "output_type": "execute_result"
    }
   ],
   "source": [
    "# Having a look at the first few rows of each dataset\n",
    "trainDF.head()"
   ]
  },
  {
   "cell_type": "code",
   "execution_count": 89,
   "metadata": {},
   "outputs": [
    {
     "data": {
      "text/html": [
       "<div>\n",
       "<style scoped>\n",
       "    .dataframe tbody tr th:only-of-type {\n",
       "        vertical-align: middle;\n",
       "    }\n",
       "\n",
       "    .dataframe tbody tr th {\n",
       "        vertical-align: top;\n",
       "    }\n",
       "\n",
       "    .dataframe thead th {\n",
       "        text-align: right;\n",
       "    }\n",
       "</style>\n",
       "<table border=\"1\" class=\"dataframe\">\n",
       "  <thead>\n",
       "    <tr style=\"text-align: right;\">\n",
       "      <th></th>\n",
       "      <th>PassengerId</th>\n",
       "      <th>Pclass</th>\n",
       "      <th>Name</th>\n",
       "      <th>Sex</th>\n",
       "      <th>Age</th>\n",
       "      <th>SibSp</th>\n",
       "      <th>Parch</th>\n",
       "      <th>Ticket</th>\n",
       "      <th>Fare</th>\n",
       "      <th>Cabin</th>\n",
       "      <th>Embarked</th>\n",
       "    </tr>\n",
       "  </thead>\n",
       "  <tbody>\n",
       "    <tr>\n",
       "      <th>0</th>\n",
       "      <td>892</td>\n",
       "      <td>3</td>\n",
       "      <td>Kelly, Mr. James</td>\n",
       "      <td>male</td>\n",
       "      <td>34.5</td>\n",
       "      <td>0</td>\n",
       "      <td>0</td>\n",
       "      <td>330911</td>\n",
       "      <td>7.8292</td>\n",
       "      <td>NaN</td>\n",
       "      <td>Q</td>\n",
       "    </tr>\n",
       "    <tr>\n",
       "      <th>1</th>\n",
       "      <td>893</td>\n",
       "      <td>3</td>\n",
       "      <td>Wilkes, Mrs. James (Ellen Needs)</td>\n",
       "      <td>female</td>\n",
       "      <td>47.0</td>\n",
       "      <td>1</td>\n",
       "      <td>0</td>\n",
       "      <td>363272</td>\n",
       "      <td>7.0000</td>\n",
       "      <td>NaN</td>\n",
       "      <td>S</td>\n",
       "    </tr>\n",
       "    <tr>\n",
       "      <th>2</th>\n",
       "      <td>894</td>\n",
       "      <td>2</td>\n",
       "      <td>Myles, Mr. Thomas Francis</td>\n",
       "      <td>male</td>\n",
       "      <td>62.0</td>\n",
       "      <td>0</td>\n",
       "      <td>0</td>\n",
       "      <td>240276</td>\n",
       "      <td>9.6875</td>\n",
       "      <td>NaN</td>\n",
       "      <td>Q</td>\n",
       "    </tr>\n",
       "    <tr>\n",
       "      <th>3</th>\n",
       "      <td>895</td>\n",
       "      <td>3</td>\n",
       "      <td>Wirz, Mr. Albert</td>\n",
       "      <td>male</td>\n",
       "      <td>27.0</td>\n",
       "      <td>0</td>\n",
       "      <td>0</td>\n",
       "      <td>315154</td>\n",
       "      <td>8.6625</td>\n",
       "      <td>NaN</td>\n",
       "      <td>S</td>\n",
       "    </tr>\n",
       "    <tr>\n",
       "      <th>4</th>\n",
       "      <td>896</td>\n",
       "      <td>3</td>\n",
       "      <td>Hirvonen, Mrs. Alexander (Helga E Lindqvist)</td>\n",
       "      <td>female</td>\n",
       "      <td>22.0</td>\n",
       "      <td>1</td>\n",
       "      <td>1</td>\n",
       "      <td>3101298</td>\n",
       "      <td>12.2875</td>\n",
       "      <td>NaN</td>\n",
       "      <td>S</td>\n",
       "    </tr>\n",
       "  </tbody>\n",
       "</table>\n",
       "</div>"
      ],
      "text/plain": [
       "   PassengerId  Pclass                                          Name     Sex  \\\n",
       "0          892       3                              Kelly, Mr. James    male   \n",
       "1          893       3              Wilkes, Mrs. James (Ellen Needs)  female   \n",
       "2          894       2                     Myles, Mr. Thomas Francis    male   \n",
       "3          895       3                              Wirz, Mr. Albert    male   \n",
       "4          896       3  Hirvonen, Mrs. Alexander (Helga E Lindqvist)  female   \n",
       "\n",
       "    Age  SibSp  Parch   Ticket     Fare Cabin Embarked  \n",
       "0  34.5      0      0   330911   7.8292   NaN        Q  \n",
       "1  47.0      1      0   363272   7.0000   NaN        S  \n",
       "2  62.0      0      0   240276   9.6875   NaN        Q  \n",
       "3  27.0      0      0   315154   8.6625   NaN        S  \n",
       "4  22.0      1      1  3101298  12.2875   NaN        S  "
      ]
     },
     "execution_count": 89,
     "metadata": {},
     "output_type": "execute_result"
    }
   ],
   "source": [
    "testDF.head()"
   ]
  },
  {
   "cell_type": "code",
   "execution_count": 90,
   "metadata": {},
   "outputs": [],
   "source": [
    "# Lets drop the columns that will not be used for the predictions\n",
    "\n",
    "trainDF.drop(['PassengerId', 'Name', 'Ticket', 'Cabin'], axis=1, inplace=True)\n",
    "testDF.drop(['Name', 'Ticket', 'Cabin'], axis=1, inplace=True)"
   ]
  },
  {
   "cell_type": "markdown",
   "metadata": {},
   "source": [
    "### Data Visualization\n",
    "\n",
    "Lets begin by finding out the surviability of each passenger based on Sex, Pclass and Embarked values in a countplot form."
   ]
  },
  {
   "cell_type": "code",
   "execution_count": 91,
   "metadata": {},
   "outputs": [
    {
     "data": {
      "image/png": "[encoded data removed]",
      "text/plain": [
       "<Figure size 1080x432 with 3 Axes>"
      ]
     },
     "metadata": {},
     "output_type": "display_data"
    }
   ],
   "source": [
    "varList = ['Sex', 'Pclass', 'Embarked']\n",
    "\n",
    "# Creating subplots\n",
    "fig1, axes1 = plt.subplots(1,3, figsize=(15,6))\n",
    "for index in range(3):\n",
    "    sns.countplot(x='Survived', hue=varList[index], data=trainDF, palette='Set2', ax=axes1[index])\n",
    "    axes1[index].set_xticklabels(['No', 'Yes'])\n",
    "    axes1[index].set_title('Plot by '+ varList[index])"
   ]
  },
  {
   "cell_type": "markdown",
   "metadata": {},
   "source": [
    "Great, the following observations can be made based of the countplots:\n",
    " - Females had a higher chance of surviving\n",
    " - Passengers from Pclass 3 had a significantly lower survivability rate\n",
    " - Passengers embarked from S had a significantly lower survivability rate\n",
    " "
   ]
  },
  {
   "cell_type": "code",
   "execution_count": 92,
   "metadata": {},
   "outputs": [
    {
     "data": {
      "text/plain": [
       "3    353\n",
       "2    164\n",
       "1    127\n",
       "Name: Pclass, dtype: int64"
      ]
     },
     "execution_count": 92,
     "metadata": {},
     "output_type": "execute_result"
    }
   ],
   "source": [
    "trainDF.loc[(trainDF['Embarked']=='S')].Pclass.value_counts()"
   ]
  },
  {
   "cell_type": "markdown",
   "metadata": {},
   "source": [
    "This tally seems to follow our observation made from the countplots, i.e. passenger count embarking from class S were classified as Pclass 3 both of which had a low survivability rate.\n",
    "\n",
    "The following are countplots depicting gender survivability of passengers from Pclass 1 and 3."
   ]
  },
  {
   "cell_type": "code",
   "execution_count": 93,
   "metadata": {},
   "outputs": [
    {
     "data": {
      "text/plain": [
       "Text(0.5,1,'Pclass 3 survival by Sex')"
      ]
     },
     "execution_count": 93,
     "metadata": {},
     "output_type": "execute_result"
    },
    {
     "data": {
      "image/png": "[encoded data removed]",
      "text/plain": [
       "<Figure size 864x360 with 2 Axes>"
      ]
     },
     "metadata": {},
     "output_type": "display_data"
    }
   ],
   "source": [
    "fig1, axes1 = plt.subplots(1,2, figsize=(12,5))\n",
    "\n",
    "sns.countplot(x='Survived', hue='Sex', data=trainDF.loc[trainDF['Pclass']==1], palette='Set2', ax=axes1[0])\n",
    "axes1[0].set_xticklabels(['No', 'Yes'])\n",
    "axes1[0].set_title('Pclass 1 survival by Sex')\n",
    "\n",
    "sns.countplot(x='Survived', hue='Sex', data=trainDF.loc[trainDF['Pclass']==3], palette='Set2', ax=axes1[1])\n",
    "axes1[1].set_xticklabels(['No', 'Yes'])\n",
    "axes1[1].set_title('Pclass 3 survival by Sex')"
   ]
  },
  {
   "cell_type": "code",
   "execution_count": 24,
   "metadata": {},
   "outputs": [
    {
     "name": "stdout",
     "output_type": "stream",
     "text": [
      "Survived Pclass 1\n",
      "female    91\n",
      "male      45\n",
      "Name: Sex, dtype: int64\n",
      "Not Survived Pclass 1\n",
      "male      77\n",
      "female     3\n",
      "Name: Sex, dtype: int64\n"
     ]
    }
   ],
   "source": [
    "print('Survived Pclass 1')\n",
    "print(trainDF.loc[(trainDF['Pclass']==1) & (trainDF['Survived']==1)].Sex.value_counts())\n",
    "print('Not Survived Pclass 1')\n",
    "print(trainDF.loc[(trainDF['Pclass']==1) & (trainDF['Survived']==0)].Sex.value_counts())"
   ]
  },
  {
   "cell_type": "code",
   "execution_count": 94,
   "metadata": {},
   "outputs": [
    {
     "name": "stdout",
     "output_type": "stream",
     "text": [
      "Survived Pclass 3\n",
      "female    72\n",
      "male      47\n",
      "Name: Sex, dtype: int64\n",
      "Not Survived Pclass 3\n",
      "male      300\n",
      "female     72\n",
      "Name: Sex, dtype: int64\n"
     ]
    }
   ],
   "source": [
    "print('Survived Pclass 3')\n",
    "print(trainDF.loc[(trainDF['Pclass']==3) & (trainDF['Survived']==1)].Sex.value_counts())\n",
    "print('Not Survived Pclass 3')\n",
    "print(trainDF.loc[(trainDF['Pclass']==3) & (trainDF['Survived']==0)].Sex.value_counts())"
   ]
  },
  {
   "cell_type": "markdown",
   "metadata": {},
   "source": [
    "Up untill this point the data has pointed towards females having a higher survivability. For Pclass 1 only 3% died while for Pclass 3 half the women did not survive. For men, in Pclass 1 37% of them survived while in Pclass 3 around 14% of them survived. \n",
    "\n",
    "There definelty is some pattern for survivability when looking at Sex and Class(with some notion of the embarkment point also playing a factor)\n",
    "\n",
    "Moving forward, lets look at now if a passenger's survivability was affected if they came as a family of just and individual. "
   ]
  },
  {
   "cell_type": "code",
   "execution_count": 95,
   "metadata": {},
   "outputs": [
    {
     "data": {
      "text/plain": [
       "'Survived'"
      ]
     },
     "execution_count": 95,
     "metadata": {},
     "output_type": "execute_result"
    },
    {
     "data": {
      "image/png": "[encoded data removed]",
      "text/plain": [
       "<Figure size 432x216 with 2 Axes>"
      ]
     },
     "metadata": {},
     "output_type": "display_data"
    },
    {
     "data": {
      "image/png": "[encoded data removed]",
      "text/plain": [
       "<Figure size 432x216 with 2 Axes>"
      ]
     },
     "metadata": {},
     "output_type": "display_data"
    }
   ],
   "source": [
    "## Function to plot histogram given a condition\n",
    "\n",
    "def conditional_hist(df, plot_cols, grid_cols):\n",
    "    for col in plot_cols:\n",
    "        grid1 = sns.FacetGrid(df, col=grid_cols)\n",
    "        grid1.map(plt.hist, col, alpha=0.6)\n",
    "    return grid_cols\n",
    "    \n",
    "cols = [\"SibSp\", \"Parch\"]\n",
    "conditional_hist(trainDF, cols, 'Survived')"
   ]
  },
  {
   "cell_type": "markdown",
   "metadata": {},
   "source": [
    "Passengers travelling as a family seemed to have a better shot at surviving than single travellers.\n",
    "\n",
    "Lets make a simpler plot by creating a new column which classified the passengers as with family or single."
   ]
  },
  {
   "cell_type": "code",
   "execution_count": 98,
   "metadata": {},
   "outputs": [],
   "source": [
    "# Calculating total family members for each passenger\n",
    "trainDF['TotMemb'] = trainDF['Parch']+trainDF['SibSp']\n",
    "\n",
    "# If the count of memebers greater than 0 label as 'With Family' otherwise 'Signle'\n",
    "trainDF.loc[(trainDF['TotMemb']>0), 'Family'] = 'With Family'\n",
    "trainDF.loc[(trainDF['TotMemb']==0), 'Family'] = 'Single'\n",
    "\n",
    "del trainDF['TotMemb']\n",
    "\n",
    "# Doing the same for the test dataset\n",
    "testDF['TotMemb'] = testDF['Parch']+testDF['SibSp']\n",
    "\n",
    "# If the count of memebers greater than 0 label as 'With Family' otherwise 'Signle'\n",
    "testDF.loc[(testDF['TotMemb']>0), 'Family'] = 'With Family'\n",
    "testDF.loc[(testDF['TotMemb']==0), 'Family'] = 'Single'\n",
    "\n",
    "del testDF['TotMemb']"
   ]
  },
  {
   "cell_type": "code",
   "execution_count": 99,
   "metadata": {},
   "outputs": [
    {
     "data": {
      "text/plain": [
       "Text(0.5,1,'Plot by Family')"
      ]
     },
     "execution_count": 99,
     "metadata": {},
     "output_type": "execute_result"
    },
    {
     "data": {
      "image/png": "[encoded data removed]",
      "text/plain": [
       "<Figure size 576x432 with 1 Axes>"
      ]
     },
     "metadata": {},
     "output_type": "display_data"
    }
   ],
   "source": [
    "# Create plot for Family and Survived\n",
    "\n",
    "fig1, axes1 = plt.subplots(1,1 , figsize=(8,6))\n",
    "\n",
    "sns.countplot(x='Survived', hue='Family', data=trainDF, palette='Set2', ax=axes1)\n",
    "axes1.set_xticklabels(['No', 'Yes'])\n",
    "axes1.set_title('Plot by Family')"
   ]
  },
  {
   "cell_type": "markdown",
   "metadata": {},
   "source": [
    "It is evident that passengers travelling with family had a better chance of surviving. Before further disecting the family stats, to see whether the passengers from the same family survived, we will continue with having a closer look at the Age variable. "
   ]
  },
  {
   "cell_type": "code",
   "execution_count": 100,
   "metadata": {},
   "outputs": [
    {
     "name": "stderr",
     "output_type": "stream",
     "text": [
      "C:\\Users\\Siddharth\\Anaconda3\\lib\\site-packages\\statsmodels\\nonparametric\\kde.py:448: RuntimeWarning: invalid value encountered in greater\n",
      "  X = X[np.logical_and(X > clip[0], X < clip[1])] # won't work for two columns.\n",
      "C:\\Users\\Siddharth\\Anaconda3\\lib\\site-packages\\statsmodels\\nonparametric\\kde.py:448: RuntimeWarning: invalid value encountered in less\n",
      "  X = X[np.logical_and(X > clip[0], X < clip[1])] # won't work for two columns.\n"
     ]
    },
    {
     "data": {
      "text/plain": [
       "<matplotlib.axes._subplots.AxesSubplot at 0x1479e48a4e0>"
      ]
     },
     "execution_count": 100,
     "metadata": {},
     "output_type": "execute_result"
    },
    {
     "data": {
      "image/png": "[encoded data removed]",
      "text/plain": [
       "<Figure size 1080x360 with 1 Axes>"
      ]
     },
     "metadata": {},
     "output_type": "display_data"
    }
   ],
   "source": [
    "# Survived KDE plot by age\n",
    "\n",
    "fig, ax = plt.subplots(figsize=(15,5))\n",
    "sns.kdeplot(trainDF['Age'].loc[(trainDF['Survived']==1)], color='r', label='Survived')\n",
    "sns.kdeplot(trainDF['Age'].loc[(trainDF['Survived']==0)], color='b', label='Not Survived')"
   ]
  },
  {
   "cell_type": "markdown",
   "metadata": {},
   "source": [
    "Lets analyse this curve - babies seem to have better survival rate mostly dude to human nature and were probably carried in first along with the women. There seems a dip in survivability occuring for children at the age of 10(the total number of childern at the age of 10 might have a role to play in this). The survivabilty seems to be increse and somewhat maintain until the age of 40. After which the rate dips lower and lower"
   ]
  },
  {
   "cell_type": "code",
   "execution_count": 101,
   "metadata": {},
   "outputs": [
    {
     "data": {
      "text/plain": [
       "9.0     8\n",
       "11.0    4\n",
       "10.0    2\n",
       "Name: Age, dtype: int64"
      ]
     },
     "execution_count": 101,
     "metadata": {},
     "output_type": "execute_result"
    }
   ],
   "source": [
    "# First lets quickly check children aged 10\n",
    "\n",
    "trainDF.loc[(trainDF['Age']>=9) & (trainDF['Age']<=11) ].Age.value_counts()"
   ]
  },
  {
   "cell_type": "markdown",
   "metadata": {},
   "source": [
    "As propsed, there are only 2 children aged 10 so the dip is justified. \n",
    "\n",
    "With this the visualization of the data comes to an end. Now we will deal with all the missing values"
   ]
  },
  {
   "cell_type": "markdown",
   "metadata": {},
   "source": [
    "### Missing Values & Feature Engineering\n",
    "Lets have a look at all the features and how many missing values does each have. Then we will try to appropriately fill them."
   ]
  },
  {
   "cell_type": "code",
   "execution_count": 102,
   "metadata": {},
   "outputs": [
    {
     "name": "stdout",
     "output_type": "stream",
     "text": [
      "Training Set\n",
      "Survived      0\n",
      "Pclass        0\n",
      "Sex           0\n",
      "Age         177\n",
      "SibSp         0\n",
      "Parch         0\n",
      "Fare          0\n",
      "Embarked      2\n",
      "Family        0\n",
      "dtype: int64\n",
      "-----------------\n",
      "Test Set\n",
      "PassengerId     0\n",
      "Pclass          0\n",
      "Sex             0\n",
      "Age            86\n",
      "SibSp           0\n",
      "Parch           0\n",
      "Fare            1\n",
      "Embarked        0\n",
      "Family          0\n",
      "dtype: int64\n"
     ]
    }
   ],
   "source": [
    "# Let's check how many missing values we have in the final dataset\n",
    "\n",
    "print('Training Set')\n",
    "print(trainDF.isnull().sum())\n",
    "print('-----------------')\n",
    "print('Test Set')\n",
    "print(testDF.isnull().sum())"
   ]
  },
  {
   "cell_type": "code",
   "execution_count": 103,
   "metadata": {},
   "outputs": [
    {
     "data": {
      "text/plain": [
       "Text(0.5,1,'Boxplot showing Fare against Embarked')"
      ]
     },
     "execution_count": 103,
     "metadata": {},
     "output_type": "execute_result"
    },
    {
     "data": {
      "image/png": "[encoded data removed]",
      "text/plain": [
       "<Figure size 1080x432 with 1 Axes>"
      ]
     },
     "metadata": {},
     "output_type": "display_data"
    }
   ],
   "source": [
    "# Lets fill the 2 missing values from Embarked in the training set\n",
    "\n",
    "temp = trainDF.loc[(trainDF['Pclass']==1) ]\n",
    "\n",
    "# Make the boxplot\n",
    "\n",
    "dims=(15,6)\n",
    "fig, ax = plt.subplots(figsize=dims)\n",
    "ymin = 0\n",
    "ymax = 180\n",
    "ax.set_ylim([ymin, ymax])\n",
    "temp.boxplot('Fare', by='Embarked', ax=ax)\n",
    "\n",
    "# Add a horizontal line at 80 (fare for the missing embarked entries) \n",
    "\n",
    "plt.axhline(y=80, xmin=0, xmax=1, hold=None)\n",
    "\n",
    "# Labels and title for the plot\n",
    "plt.xlabel('Embarked Categories : C, Q, S')\n",
    "plt.ylabel('Fare')\n",
    "plt.title('Boxplot showing Fare against Embarked')"
   ]
  },
  {
   "cell_type": "code",
   "execution_count": 104,
   "metadata": {},
   "outputs": [],
   "source": [
    "# Fill the missing values in\n",
    "\n",
    "trainDF['Embarked'].fillna('C', inplace=True)"
   ]
  },
  {
   "cell_type": "code",
   "execution_count": 105,
   "metadata": {},
   "outputs": [
    {
     "data": {
      "text/html": [
       "<div>\n",
       "<style scoped>\n",
       "    .dataframe tbody tr th:only-of-type {\n",
       "        vertical-align: middle;\n",
       "    }\n",
       "\n",
       "    .dataframe tbody tr th {\n",
       "        vertical-align: top;\n",
       "    }\n",
       "\n",
       "    .dataframe thead th {\n",
       "        text-align: right;\n",
       "    }\n",
       "</style>\n",
       "<table border=\"1\" class=\"dataframe\">\n",
       "  <thead>\n",
       "    <tr style=\"text-align: right;\">\n",
       "      <th></th>\n",
       "      <th>PassengerId</th>\n",
       "      <th>Pclass</th>\n",
       "      <th>Sex</th>\n",
       "      <th>Age</th>\n",
       "      <th>SibSp</th>\n",
       "      <th>Parch</th>\n",
       "      <th>Fare</th>\n",
       "      <th>Embarked</th>\n",
       "      <th>Family</th>\n",
       "    </tr>\n",
       "  </thead>\n",
       "  <tbody>\n",
       "    <tr>\n",
       "      <th>152</th>\n",
       "      <td>1044</td>\n",
       "      <td>3</td>\n",
       "      <td>male</td>\n",
       "      <td>60.5</td>\n",
       "      <td>0</td>\n",
       "      <td>0</td>\n",
       "      <td>NaN</td>\n",
       "      <td>S</td>\n",
       "      <td>Single</td>\n",
       "    </tr>\n",
       "  </tbody>\n",
       "</table>\n",
       "</div>"
      ],
      "text/plain": [
       "     PassengerId  Pclass   Sex   Age  SibSp  Parch  Fare Embarked  Family\n",
       "152         1044       3  male  60.5      0      0   NaN        S  Single"
      ]
     },
     "execution_count": 105,
     "metadata": {},
     "output_type": "execute_result"
    }
   ],
   "source": [
    "# Next lets fill in the 1 missing fare value from test set\n",
    "testDF[testDF['Fare'].isnull()]"
   ]
  },
  {
   "cell_type": "code",
   "execution_count": 106,
   "metadata": {},
   "outputs": [],
   "source": [
    "# We will extrapolate the mean fare for Pclass=3 & Embarked=S\n",
    "meanPclass3 = trainDF.loc[(trainDF['Pclass']==3) & (trainDF['Embarked']=='S')].Fare.mean()\n",
    "\n",
    "# Fill in the value\n",
    "testDF['Fare'].fillna(meanPclass3, inplace=True)"
   ]
  },
  {
   "cell_type": "code",
   "execution_count": 107,
   "metadata": {},
   "outputs": [
    {
     "name": "stderr",
     "output_type": "stream",
     "text": [
      "C:\\Users\\Siddharth\\Anaconda3\\lib\\site-packages\\ipykernel_launcher.py:26: SettingWithCopyWarning: \n",
      "A value is trying to be set on a copy of a slice from a DataFrame\n",
      "\n",
      "See the caveats in the documentation: http://pandas.pydata.org/pandas-docs/stable/indexing.html#indexing-view-versus-copy\n",
      "C:\\Users\\Siddharth\\Anaconda3\\lib\\site-packages\\ipykernel_launcher.py:27: SettingWithCopyWarning: \n",
      "A value is trying to be set on a copy of a slice from a DataFrame\n",
      "\n",
      "See the caveats in the documentation: http://pandas.pydata.org/pandas-docs/stable/indexing.html#indexing-view-versus-copy\n"
     ]
    },
    {
     "data": {
      "text/plain": [
       "<matplotlib.axes._subplots.AxesSubplot at 0x1479e562d68>"
      ]
     },
     "execution_count": 107,
     "metadata": {},
     "output_type": "execute_result"
    },
    {
     "data": {
      "image/png": "[encoded data removed]",
      "text/plain": [
       "<Figure size 1080x360 with 2 Axes>"
      ]
     },
     "metadata": {},
     "output_type": "display_data"
    }
   ],
   "source": [
    "# Thanks to Omar El Gabry (A Journey through Titanic) for this next section in filling out the Age NaNs. \n",
    "\n",
    "# Set up the comparative histograms for before and after missing Age values have been filled\n",
    "fig, (ax1,ax2) = plt.subplots(1,2,figsize=(15,5))\n",
    "ax1.set_title('Original Age Values')\n",
    "ax2.set_title('New Age Values')\n",
    "\n",
    "# Calculate the mean, standard deviation and total number of NaNs\n",
    "mean = trainDF['Age'].mean()\n",
    "std = trainDF['Age'].std()\n",
    "noOfNaNs = trainDF['Age'].isnull().sum()\n",
    "\n",
    "mean1 = testDF['Age'].mean()\n",
    "std1 = testDF['Age'].std()\n",
    "noOfNaNs1 = testDF['Age'].isnull().sum()\n",
    "\n",
    "np.random.seed(42)\n",
    "# Create random numbers between std above and below the mean\n",
    "random1 = np.random.randint(mean-std, mean+std, size=noOfNaNs)\n",
    "random2 = np.random.randint(mean1-std1, mean1+std1, size=noOfNaNs1)\n",
    "\n",
    "# Create histogram for original age values\n",
    "trainDF['Age'].dropna().astype(int).hist(bins=70, ax=ax1)\n",
    "\n",
    "# Set the NaN missing values to the newly generated random numbers above\n",
    "trainDF['Age'][np.isnan(trainDF['Age'])] = random1\n",
    "testDF['Age'][np.isnan(testDF['Age'])] = random2\n",
    "\n",
    "# Create histogram for the new age values\n",
    "trainDF['Age'].hist(bins=70, ax=ax2)"
   ]
  },
  {
   "cell_type": "markdown",
   "metadata": {},
   "source": [
    "Now that all the missing values have been filled in lets move to creating bins for the Age column. This is giving us an improvement in the prediction."
   ]
  },
  {
   "cell_type": "code",
   "execution_count": 108,
   "metadata": {},
   "outputs": [
    {
     "name": "stdout",
     "output_type": "stream",
     "text": [
      "bins: [ 0.42   10.3675 20.315  30.2625 40.21   50.1575 60.105  70.0525 80.    ]\n",
      "\n",
      "Data points:\n",
      " 0    22.0\n",
      "1    38.0\n",
      "2    26.0\n",
      "3    35.0\n",
      "4    35.0\n",
      "Name: Age, dtype: float64\n",
      "\n",
      "Bin membership for data points:\n",
      " [3 4 3 4 4]\n"
     ]
    }
   ],
   "source": [
    "# Create bins\n",
    "bins = np.linspace(0.42, 80, 9)\n",
    "print(\"bins: {}\".format(bins))\n",
    "\n",
    "# Binning training set\n",
    "which_bin = np.digitize(trainDF['Age'], bins=bins)\n",
    "print(\"\\nData points:\\n\", trainDF['Age'][:5])\n",
    "print(\"\\nBin membership for data points:\\n\", which_bin[:5])\n",
    "\n",
    "# Binning test set\n",
    "which_bin2 = np.digitize(testDF['Age'], bins=bins)"
   ]
  },
  {
   "cell_type": "code",
   "execution_count": 109,
   "metadata": {},
   "outputs": [],
   "source": [
    "# Get dummy variables for the Pclass feature and name the columns\n",
    "\n",
    "pclass_dummies_titanic  = pd.get_dummies(trainDF['Pclass'])\n",
    "pclass_dummies_titanic.columns = ['Class_1','Class_2','Class_3']\n",
    "\n",
    "\n",
    "pclass_dummies_test  = pd.get_dummies(testDF['Pclass'])\n",
    "pclass_dummies_test.columns = ['Class_1','Class_2','Class_3']"
   ]
  },
  {
   "cell_type": "code",
   "execution_count": 110,
   "metadata": {},
   "outputs": [
    {
     "name": "stdout",
     "output_type": "stream",
     "text": [
      "Train features:\n",
      " ['Survived', 'Pclass', 'Sex', 'Age', 'SibSp', 'Parch', 'Fare', 'Embarked', 'Family'] \n",
      "\n",
      "Test features:\n",
      " ['PassengerId', 'Pclass', 'Sex', 'Age', 'SibSp', 'Parch', 'Fare', 'Embarked', 'Family'] \n",
      "\n"
     ]
    }
   ],
   "source": [
    "# Review training and test sets\n",
    "print(\"Train features:\\n\", list(trainDF.columns), \"\\n\")\n",
    "print(\"Test features:\\n\", list(testDF.columns), \"\\n\")"
   ]
  },
  {
   "cell_type": "code",
   "execution_count": 111,
   "metadata": {},
   "outputs": [
    {
     "name": "stdout",
     "output_type": "stream",
     "text": [
      "Train Features after get_dummies:\n",
      " ['Survived', 'Pclass', 'Age', 'SibSp', 'Parch', 'Fare', 'Sex_female', 'Sex_male', 'Embarked_C', 'Embarked_Q', 'Embarked_S', 'Family_Single', 'Family_With Family', 'Class_1', 'Class_2', 'Class_3', 'AgeBinned']\n",
      "Test Features after get_dummies:\n",
      " ['PassengerId', 'Pclass', 'Age', 'SibSp', 'Parch', 'Fare', 'Sex_female', 'Sex_male', 'Embarked_C', 'Embarked_Q', 'Embarked_S', 'Family_Single', 'Family_With Family', 'Class_1', 'Class_2', 'Class_3', 'AgeBinned']\n"
     ]
    }
   ],
   "source": [
    "# Get dummies for the rest of the features\n",
    "\n",
    "train_dummies = pd.get_dummies(trainDF)\n",
    "test_dummies = pd.get_dummies(testDF)\n",
    "\n",
    "# Join the Pclass dummies and the binned ages\n",
    "train_dummies = train_dummies.join(pclass_dummies_titanic)\n",
    "test_dummies    = test_dummies.join(pclass_dummies_test)\n",
    "train_dummies['AgeBinned'] = which_bin\n",
    "test_dummies['AgeBinned'] = which_bin2\n",
    "\n",
    "# Review training and test sets\n",
    "print(\"Train Features after get_dummies:\\n\", list(train_dummies.columns))\n",
    "print(\"Test Features after get_dummies:\\n\", list(test_dummies.columns))"
   ]
  },
  {
   "cell_type": "code",
   "execution_count": 112,
   "metadata": {},
   "outputs": [
    {
     "name": "stdout",
     "output_type": "stream",
     "text": [
      "<class 'pandas.core.frame.DataFrame'>\n",
      "RangeIndex: 891 entries, 0 to 890\n",
      "Data columns (total 13 columns):\n",
      "Survived              891 non-null int64\n",
      "Fare                  891 non-null float64\n",
      "Sex_female            891 non-null uint8\n",
      "Sex_male              891 non-null uint8\n",
      "Embarked_C            891 non-null uint8\n",
      "Embarked_Q            891 non-null uint8\n",
      "Embarked_S            891 non-null uint8\n",
      "Family_Single         891 non-null uint8\n",
      "Family_With Family    891 non-null uint8\n",
      "Class_1               891 non-null uint8\n",
      "Class_2               891 non-null uint8\n",
      "Class_3               891 non-null uint8\n",
      "AgeBinned             891 non-null int64\n",
      "dtypes: float64(1), int64(2), uint8(10)\n",
      "memory usage: 29.7 KB\n",
      "None\n",
      "<class 'pandas.core.frame.DataFrame'>\n",
      "RangeIndex: 418 entries, 0 to 417\n",
      "Data columns (total 13 columns):\n",
      "PassengerId           418 non-null int64\n",
      "Fare                  418 non-null float64\n",
      "Sex_female            418 non-null uint8\n",
      "Sex_male              418 non-null uint8\n",
      "Embarked_C            418 non-null uint8\n",
      "Embarked_Q            418 non-null uint8\n",
      "Embarked_S            418 non-null uint8\n",
      "Family_Single         418 non-null uint8\n",
      "Family_With Family    418 non-null uint8\n",
      "Class_1               418 non-null uint8\n",
      "Class_2               418 non-null uint8\n",
      "Class_3               418 non-null uint8\n",
      "AgeBinned             418 non-null int64\n",
      "dtypes: float64(1), int64(2), uint8(10)\n",
      "memory usage: 14.0 KB\n",
      "None\n"
     ]
    }
   ],
   "source": [
    "# Let's drop some of the columns that are redundant\n",
    "\n",
    "train_dummies.drop(['Parch', 'SibSp', 'Pclass', 'Age'], axis=1, inplace=True)\n",
    "test_dummies.drop(['Parch', 'SibSp', 'Pclass', 'Age'], axis=1, inplace=True)\n",
    "\n",
    "# Review final training and test datasets\n",
    "print(train_dummies.info())\n",
    "print(test_dummies.info())"
   ]
  },
  {
   "cell_type": "markdown",
   "metadata": {},
   "source": [
    "Ok, it looks like we have accounted for everything. Lets look at it as a heatmap"
   ]
  },
  {
   "cell_type": "code",
   "execution_count": 113,
   "metadata": {
    "scrolled": false
   },
   "outputs": [
    {
     "data": {
      "text/plain": [
       "<matplotlib.axes._subplots.AxesSubplot at 0x1479d1b1ac8>"
      ]
     },
     "execution_count": 113,
     "metadata": {},
     "output_type": "execute_result"
    },
    {
     "data": {
      "image/png": "[encoded data removed]",
      "text/plain": [
       "<Figure size 648x504 with 2 Axes>"
      ]
     },
     "metadata": {},
     "output_type": "display_data"
    }
   ],
   "source": [
    "fig, ax = plt.subplots(figsize=(9,7))\n",
    "sns.heatmap(trainDF.corr(),annot=True,linewidths=.5, ax=ax, cmap=\"YlGnBu\")"
   ]
  },
  {
   "cell_type": "code",
   "execution_count": 114,
   "metadata": {},
   "outputs": [
    {
     "data": {
      "text/plain": [
       "<matplotlib.axes._subplots.AxesSubplot at 0x1479e6366d8>"
      ]
     },
     "execution_count": 114,
     "metadata": {},
     "output_type": "execute_result"
    },
    {
     "data": {
      "image/png": "[encoded data removed]",
      "text/plain": [
       "<Figure size 864x648 with 2 Axes>"
      ]
     },
     "metadata": {},
     "output_type": "display_data"
    }
   ],
   "source": [
    "fig, ax = plt.subplots(figsize=(12,9))\n",
    "sns.heatmap(train_dummies.corr(),annot=True,linewidths=.5, ax=ax, cmap=\"YlGnBu\")"
   ]
  },
  {
   "cell_type": "markdown",
   "metadata": {},
   "source": [
    "This heatmap gives insight into the correlation between the different features. Taking a closer look at the correlations with Survived, we can see that gender has higher correlation as expected. Similarly, the Class 1 & 3 are also. \n",
    "\n",
    "We are now ready to start building our prediction model. "
   ]
  },
  {
   "cell_type": "code",
   "execution_count": 115,
   "metadata": {},
   "outputs": [],
   "source": [
    "# Create training and test sets\n",
    "\n",
    "X_train = train_dummies.iloc[:,1:13]\n",
    "y_train = train_dummies.iloc[:,0]\n",
    "X_test = test_dummies.iloc[:,1:13]"
   ]
  },
  {
   "cell_type": "code",
   "execution_count": 116,
   "metadata": {},
   "outputs": [],
   "source": [
    "# Import classifiers\n",
    "from sklearn.linear_model import LogisticRegression\n",
    "from sklearn.svm import LinearSVC\n",
    "from sklearn.tree import DecisionTreeClassifier\n",
    "from sklearn.neighbors import KNeighborsClassifier\n",
    "from sklearn.naive_bayes import GaussianNB\n",
    "from sklearn.svm import SVC\n",
    "from sklearn.ensemble import RandomForestClassifier\n",
    "from sklearn.ensemble import GradientBoostingClassifier\n",
    "\n",
    "\n",
    "# Imports for parameter setting and validation\n",
    "from sklearn.metrics import classification_report\n",
    "from sklearn.metrics import confusion_matrix\n",
    "from sklearn.model_selection import GridSearchCV\n",
    "from sklearn.model_selection import StratifiedKFold\n",
    "from sklearn.model_selection import cross_val_score"
   ]
  },
  {
   "cell_type": "markdown",
   "metadata": {},
   "source": [
    "We will run a few algorithms first and see their results. Then we will select one with a good performance and tune the model to improve it further."
   ]
  },
  {
   "cell_type": "code",
   "execution_count": 117,
   "metadata": {},
   "outputs": [
    {
     "name": "stdout",
     "output_type": "stream",
     "text": [
      "Model: Logistic Regression\n",
      "Train Set Score: 0.7946127946127947\n",
      "---------------\n",
      "Model: KNeighborsClassifier\n",
      "Train Set Score: 0.8372615039281706\n",
      "---------------\n",
      "Model: GaussianNB\n",
      "Train Set Score: 0.7665544332210998\n",
      "---------------\n",
      "Model: LinearSVC\n",
      "Train Set Score: 0.7856341189674523\n",
      "---------------\n",
      "Model: SVC\n",
      "Train Set Score: 0.8383838383838383\n",
      "---------------\n",
      "Model: DecisionTreeClassifier\n",
      "Train Set Score: 0.9483726150392817\n",
      "---------------\n",
      "Model: Random Forest\n",
      "Train Set Score: 0.9349046015712682\n",
      "---------------\n",
      "Model: Gradient Boosting\n",
      "Train Set Score: 0.8911335578002245\n",
      "---------------\n"
     ]
    }
   ],
   "source": [
    "models = []\n",
    "models.append(('Logistic Regression', LogisticRegression()))\n",
    "models.append(('KNeighborsClassifier', KNeighborsClassifier()))\n",
    "models.append(('GaussianNB', GaussianNB()))\n",
    "models.append(('LinearSVC', LinearSVC(random_state=0)))\n",
    "models.append(('SVC', SVC()))\n",
    "models.append(('DecisionTreeClassifier', DecisionTreeClassifier()))\n",
    "models.append(('Random Forest', RandomForestClassifier(random_state=0)))\n",
    "models.append(('Gradient Boosting', GradientBoostingClassifier()))\n",
    "\n",
    "for name, model in models:\n",
    "    clf = model.fit(X_train, y_train)\n",
    "    y_pred = model.predict(X_test)\n",
    "    print(\"Model: \"+name)\n",
    "    print(\"Train Set Score: {}\".format(model.score(X_train, y_train)))\n",
    "    print(\"---------------\")"
   ]
  },
  {
   "cell_type": "markdown",
   "metadata": {},
   "source": [
    "Even though Decision Tree has a better score I would like to select Random Forrest and see if we can get the score to be better\n",
    "\n",
    "Let us first select the features for which we will be using SelectFromModel"
   ]
  },
  {
   "cell_type": "code",
   "execution_count": 118,
   "metadata": {},
   "outputs": [
    {
     "name": "stdout",
     "output_type": "stream",
     "text": [
      "X_train.shape: (891, 12)\n",
      "X_train_selected.shape: (891, 6)\n"
     ]
    }
   ],
   "source": [
    "from sklearn.feature_selection import SelectFromModel\n",
    "\n",
    "#RandomForestClassifier\n",
    "select = SelectFromModel(\n",
    "RandomForestClassifier(n_estimators=100, random_state=0),\n",
    "threshold=\"median\")\n",
    "select.fit(X_train, y_train)\n",
    "\n",
    "X_train_selected = select.transform(X_train)\n",
    "print(\"X_train.shape: {}\".format(X_train.shape))\n",
    "print(\"X_train_selected.shape: {}\".format(X_train_selected.shape))"
   ]
  },
  {
   "cell_type": "markdown",
   "metadata": {},
   "source": [
    "The feature count went from 12 to 6"
   ]
  },
  {
   "cell_type": "code",
   "execution_count": 119,
   "metadata": {},
   "outputs": [
    {
     "name": "stdout",
     "output_type": "stream",
     "text": [
      "<class 'pandas.core.frame.DataFrame'>\n",
      "RangeIndex: 891 entries, 0 to 890\n",
      "Data columns (total 12 columns):\n",
      "Fare                  891 non-null float64\n",
      "Sex_female            891 non-null uint8\n",
      "Sex_male              891 non-null uint8\n",
      "Embarked_C            891 non-null uint8\n",
      "Embarked_Q            891 non-null uint8\n",
      "Embarked_S            891 non-null uint8\n",
      "Family_Single         891 non-null uint8\n",
      "Family_With Family    891 non-null uint8\n",
      "Class_1               891 non-null uint8\n",
      "Class_2               891 non-null uint8\n",
      "Class_3               891 non-null uint8\n",
      "AgeBinned             891 non-null int64\n",
      "dtypes: float64(1), int64(1), uint8(10)\n",
      "memory usage: 22.7 KB\n",
      "None\n"
     ]
    },
    {
     "data": {
      "text/plain": [
       "array([ True,  True,  True, False, False, False, False, False,  True,\n",
       "       False,  True,  True])"
      ]
     },
     "execution_count": 119,
     "metadata": {},
     "output_type": "execute_result"
    }
   ],
   "source": [
    "print(X_train.info())\n",
    "select.get_support()"
   ]
  },
  {
   "cell_type": "markdown",
   "metadata": {},
   "source": [
    "The final features are as follows: Fare, Sex_female, Sex_male, Class_1, Class_3, AgeBinned.\n",
    "\n",
    "Embarked and Family were removed."
   ]
  },
  {
   "cell_type": "code",
   "execution_count": 80,
   "metadata": {},
   "outputs": [
    {
     "name": "stdout",
     "output_type": "stream",
     "text": [
      "Score with all features: 0.935\n",
      "Score with selected features: 0.923\n"
     ]
    }
   ],
   "source": [
    "# Select features for test as well using transform\n",
    "\n",
    "X_test_selected = select.transform(X_test)\n",
    "\n",
    "# Let's compare the scores for both the original and reduced features\n",
    "rfc = RandomForestClassifier(random_state=0)\n",
    "rfc.fit(X_train, y_train)\n",
    "print(\"Score with all features: {:.3f}\".format(rfc.score(X_train, y_train)))\n",
    "rfc.fit(X_train_selected, y_train)\n",
    "print(\"Score with selected features: {:.3f}\".format(rfc.score(X_train_selected, y_train)))"
   ]
  },
  {
   "cell_type": "code",
   "execution_count": 81,
   "metadata": {},
   "outputs": [
    {
     "name": "stdout",
     "output_type": "stream",
     "text": [
      "Parameter Grid : \n",
      "{'n_estimators': [1, 3, 5, 10, 100], 'min_samples_leaf': [1, 3, 5, 10, 50, 100, 200, 500]}\n",
      "\n",
      "Best parameters: {'min_samples_leaf': 3, 'n_estimators': 100}\n",
      "Best cross-validation score (on Training Data): 0.81\n",
      "\n",
      "Classification report: \n",
      "             precision    recall  f1-score   support\n",
      "\n",
      "          0       0.88      0.95      0.91       549\n",
      "          1       0.90      0.79      0.84       342\n",
      "\n",
      "avg / total       0.89      0.89      0.88       891\n",
      "\n",
      "Confusion Matrix: \n",
      "[[520  29]\n",
      " [ 72 270]]\n",
      "\n",
      "Train Set score using RandomForestClassifier: 0.887\n"
     ]
    }
   ],
   "source": [
    "\n",
    "# RandomForestClassifier\n",
    "\n",
    "# Create the grid of values for the C parameter\n",
    "param_grid = {'n_estimators' : [1,3,5,10,100],\n",
    "             'min_samples_leaf' : [1,3,5,10,50,100,200,500]} \n",
    "print('Parameter Grid : \\n{}\\n'.format(param_grid))\n",
    "\n",
    "# We will implement a grid search with a stratified 3 folds cross validation using the Random Forest estimator\n",
    "grid_search = GridSearchCV(RandomForestClassifier(random_state=0), param_grid, cv=3)\n",
    "\n",
    "# Fit the estimator on the training data and predict on test data\n",
    "grid_search.fit(X_train_selected, y_train)\n",
    "y_pred = grid_search.predict(X_test_selected)\n",
    "y_trainpred = grid_search.predict(X_train_selected)\n",
    "\n",
    "# Outputs\n",
    "print(\"Best parameters: {}\".format(grid_search.best_params_))\n",
    "print(\"Best cross-validation score (on Training Data): {:.2f}\\n\".format(grid_search.best_score_))\n",
    "print(\"Classification report: \\n{}\".format(classification_report(y_train, y_trainpred)))\n",
    "print(\"Confusion Matrix: \\n{}\\n\".format(confusion_matrix(y_train, y_trainpred)))\n",
    "print('Train Set score using RandomForestClassifier: {:.3f}'.format(grid_search.score(X_train_selected, y_train)))"
   ]
  },
  {
   "cell_type": "markdown",
   "metadata": {},
   "source": [
    "It seems like we are misclassifying some instances"
   ]
  },
  {
   "cell_type": "code",
   "execution_count": 82,
   "metadata": {},
   "outputs": [
    {
     "data": {
      "text/plain": [
       "(101, 12)"
      ]
     },
     "execution_count": 82,
     "metadata": {},
     "output_type": "execute_result"
    }
   ],
   "source": [
    "misclassified_samples = X_train[y_train != y_trainpred]\n",
    "misclassified_samples.shape"
   ]
  },
  {
   "cell_type": "markdown",
   "metadata": {},
   "source": [
    "101 are being missclassified out of 891"
   ]
  },
  {
   "cell_type": "code",
   "execution_count": 83,
   "metadata": {},
   "outputs": [
    {
     "data": {
      "text/html": [
       "<div>\n",
       "<style scoped>\n",
       "    .dataframe tbody tr th:only-of-type {\n",
       "        vertical-align: middle;\n",
       "    }\n",
       "\n",
       "    .dataframe tbody tr th {\n",
       "        vertical-align: top;\n",
       "    }\n",
       "\n",
       "    .dataframe thead th {\n",
       "        text-align: right;\n",
       "    }\n",
       "</style>\n",
       "<table border=\"1\" class=\"dataframe\">\n",
       "  <thead>\n",
       "    <tr style=\"text-align: right;\">\n",
       "      <th></th>\n",
       "      <th>Survived</th>\n",
       "      <th>Pclass</th>\n",
       "      <th>Sex</th>\n",
       "      <th>Age</th>\n",
       "      <th>SibSp</th>\n",
       "      <th>Parch</th>\n",
       "      <th>Fare</th>\n",
       "      <th>Embarked</th>\n",
       "      <th>Family</th>\n",
       "    </tr>\n",
       "  </thead>\n",
       "  <tbody>\n",
       "    <tr>\n",
       "      <th>2</th>\n",
       "      <td>1</td>\n",
       "      <td>3</td>\n",
       "      <td>female</td>\n",
       "      <td>26.0</td>\n",
       "      <td>0</td>\n",
       "      <td>0</td>\n",
       "      <td>7.9250</td>\n",
       "      <td>S</td>\n",
       "      <td>Single</td>\n",
       "    </tr>\n",
       "    <tr>\n",
       "      <th>14</th>\n",
       "      <td>0</td>\n",
       "      <td>3</td>\n",
       "      <td>female</td>\n",
       "      <td>14.0</td>\n",
       "      <td>0</td>\n",
       "      <td>0</td>\n",
       "      <td>7.8542</td>\n",
       "      <td>S</td>\n",
       "      <td>Single</td>\n",
       "    </tr>\n",
       "    <tr>\n",
       "      <th>17</th>\n",
       "      <td>1</td>\n",
       "      <td>2</td>\n",
       "      <td>male</td>\n",
       "      <td>34.0</td>\n",
       "      <td>0</td>\n",
       "      <td>0</td>\n",
       "      <td>13.0000</td>\n",
       "      <td>S</td>\n",
       "      <td>Single</td>\n",
       "    </tr>\n",
       "    <tr>\n",
       "      <th>18</th>\n",
       "      <td>0</td>\n",
       "      <td>3</td>\n",
       "      <td>female</td>\n",
       "      <td>31.0</td>\n",
       "      <td>1</td>\n",
       "      <td>0</td>\n",
       "      <td>18.0000</td>\n",
       "      <td>S</td>\n",
       "      <td>With Family</td>\n",
       "    </tr>\n",
       "    <tr>\n",
       "      <th>21</th>\n",
       "      <td>1</td>\n",
       "      <td>2</td>\n",
       "      <td>male</td>\n",
       "      <td>34.0</td>\n",
       "      <td>0</td>\n",
       "      <td>0</td>\n",
       "      <td>13.0000</td>\n",
       "      <td>S</td>\n",
       "      <td>Single</td>\n",
       "    </tr>\n",
       "    <tr>\n",
       "      <th>25</th>\n",
       "      <td>1</td>\n",
       "      <td>3</td>\n",
       "      <td>female</td>\n",
       "      <td>38.0</td>\n",
       "      <td>1</td>\n",
       "      <td>5</td>\n",
       "      <td>31.3875</td>\n",
       "      <td>S</td>\n",
       "      <td>With Family</td>\n",
       "    </tr>\n",
       "    <tr>\n",
       "      <th>32</th>\n",
       "      <td>1</td>\n",
       "      <td>3</td>\n",
       "      <td>female</td>\n",
       "      <td>35.0</td>\n",
       "      <td>0</td>\n",
       "      <td>0</td>\n",
       "      <td>7.7500</td>\n",
       "      <td>Q</td>\n",
       "      <td>Single</td>\n",
       "    </tr>\n",
       "    <tr>\n",
       "      <th>36</th>\n",
       "      <td>1</td>\n",
       "      <td>3</td>\n",
       "      <td>male</td>\n",
       "      <td>21.0</td>\n",
       "      <td>0</td>\n",
       "      <td>0</td>\n",
       "      <td>7.2292</td>\n",
       "      <td>C</td>\n",
       "      <td>Single</td>\n",
       "    </tr>\n",
       "    <tr>\n",
       "      <th>41</th>\n",
       "      <td>0</td>\n",
       "      <td>2</td>\n",
       "      <td>female</td>\n",
       "      <td>27.0</td>\n",
       "      <td>1</td>\n",
       "      <td>0</td>\n",
       "      <td>21.0000</td>\n",
       "      <td>S</td>\n",
       "      <td>With Family</td>\n",
       "    </tr>\n",
       "    <tr>\n",
       "      <th>55</th>\n",
       "      <td>1</td>\n",
       "      <td>1</td>\n",
       "      <td>male</td>\n",
       "      <td>38.0</td>\n",
       "      <td>0</td>\n",
       "      <td>0</td>\n",
       "      <td>35.5000</td>\n",
       "      <td>S</td>\n",
       "      <td>Single</td>\n",
       "    </tr>\n",
       "  </tbody>\n",
       "</table>\n",
       "</div>"
      ],
      "text/plain": [
       "    Survived  Pclass     Sex   Age  SibSp  Parch     Fare Embarked  \\\n",
       "2          1       3  female  26.0      0      0   7.9250        S   \n",
       "14         0       3  female  14.0      0      0   7.8542        S   \n",
       "17         1       2    male  34.0      0      0  13.0000        S   \n",
       "18         0       3  female  31.0      1      0  18.0000        S   \n",
       "21         1       2    male  34.0      0      0  13.0000        S   \n",
       "25         1       3  female  38.0      1      5  31.3875        S   \n",
       "32         1       3  female  35.0      0      0   7.7500        Q   \n",
       "36         1       3    male  21.0      0      0   7.2292        C   \n",
       "41         0       2  female  27.0      1      0  21.0000        S   \n",
       "55         1       1    male  38.0      0      0  35.5000        S   \n",
       "\n",
       "         Family  \n",
       "2        Single  \n",
       "14       Single  \n",
       "17       Single  \n",
       "18  With Family  \n",
       "21       Single  \n",
       "25  With Family  \n",
       "32       Single  \n",
       "36       Single  \n",
       "41  With Family  \n",
       "55       Single  "
      ]
     },
     "execution_count": 83,
     "metadata": {},
     "output_type": "execute_result"
    }
   ],
   "source": [
    "temp = trainDF.iloc[misclassified_samples.index,:]\n",
    "temp.head(10)"
   ]
  },
  {
   "cell_type": "code",
   "execution_count": 84,
   "metadata": {},
   "outputs": [
    {
     "name": "stdout",
     "output_type": "stream",
     "text": [
      "Misclassified Pclass\n",
      "3    48\n",
      "1    16\n",
      "2     8\n",
      "Name: Pclass, dtype: int64\n",
      "-------------------------------\n",
      "Misclassified Sex\n",
      "male      60\n",
      "female    12\n",
      "Name: Sex, dtype: int64\n",
      "-------------------------------\n",
      "Misclassified Family\n",
      "Single         49\n",
      "With Family    23\n",
      "Name: Family, dtype: int64\n",
      "-------------------------------\n",
      "Misclassified Embarked\n",
      "S    46\n",
      "C    20\n",
      "Q     6\n",
      "Name: Embarked, dtype: int64\n"
     ]
    }
   ],
   "source": [
    "print('Misclassified Pclass')\n",
    "print(temp['Pclass'].loc[temp['Survived']==1].value_counts())\n",
    "print('-------------------------------')\n",
    "print('Misclassified Sex')\n",
    "print(temp['Sex'].loc[temp['Survived']==1].value_counts())\n",
    "print('-------------------------------')\n",
    "print('Misclassified Family')\n",
    "print(temp['Family'].loc[temp['Survived']==1].value_counts())\n",
    "print('-------------------------------')\n",
    "print('Misclassified Embarked')\n",
    "print(temp['Embarked'].loc[temp['Survived']==1].value_counts())"
   ]
  },
  {
   "cell_type": "markdown",
   "metadata": {},
   "source": [
    "This model gets a score of 0.80861 on the unseen test set."
   ]
  }
 ],
 "metadata": {
  "kernelspec": {
   "display_name": "Python 3",
   "language": "python",
   "name": "python3"
  },
  "language_info": {
   "codemirror_mode": {
    "name": "ipython",
    "version": 3
   },
   "file_extension": ".py",
   "mimetype": "text/x-python",
   "name": "python",
   "nbconvert_exporter": "python",
   "pygments_lexer": "ipython3",
   "version": "3.6.5"
  }
 },
 "nbformat": 4,
 "nbformat_minor": 2
}
